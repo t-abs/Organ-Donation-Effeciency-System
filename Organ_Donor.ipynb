{
  "nbformat": 4,
  "nbformat_minor": 0,
  "metadata": {
    "colab": {
      "provenance": [],
      "authorship_tag": "ABX9TyNrNwVI8r6Xg0HBG1k/ghbw",
      "include_colab_link": true
    },
    "kernelspec": {
      "name": "python3",
      "display_name": "Python 3"
    },
    "language_info": {
      "name": "python"
    }
  },
  "cells": [
    {
      "cell_type": "markdown",
      "metadata": {
        "id": "view-in-github",
        "colab_type": "text"
      },
      "source": [
        "<a href=\"https://colab.research.google.com/github/t-abs/Organ-Donation-Effeciency-System/blob/main/Organ_Donor.ipynb\" target=\"_parent\"><img src=\"https://colab.research.google.com/assets/colab-badge.svg\" alt=\"Open In Colab\"/></a>"
      ]
    },
    {
      "cell_type": "code",
      "execution_count": 1,
      "metadata": {
        "colab": {
          "base_uri": "https://localhost:8080/"
        },
        "id": "nuqsZvlV1Gkn",
        "outputId": "ea9d5e11-9875-403f-d104-ee2810ec4a59"
      },
      "outputs": [
        {
          "output_type": "stream",
          "name": "stdout",
          "text": [
            "Collecting faker\n",
            "  Downloading Faker-25.2.0-py3-none-any.whl (1.8 MB)\n",
            "\u001b[2K     \u001b[90m━━━━━━━━━━━━━━━━━━━━━━━━━━━━━━━━━━━━━━━━\u001b[0m \u001b[32m1.8/1.8 MB\u001b[0m \u001b[31m6.8 MB/s\u001b[0m eta \u001b[36m0:00:00\u001b[0m\n",
            "\u001b[?25hRequirement already satisfied: python-dateutil>=2.4 in /usr/local/lib/python3.10/dist-packages (from faker) (2.8.2)\n",
            "Requirement already satisfied: six>=1.5 in /usr/local/lib/python3.10/dist-packages (from python-dateutil>=2.4->faker) (1.16.0)\n",
            "Installing collected packages: faker\n",
            "Successfully installed faker-25.2.0\n"
          ]
        }
      ],
      "source": [
        "import pandas as pd\n",
        "from sklearn.model_selection import train_test_split\n",
        "from sklearn.ensemble import RandomForestClassifier\n",
        "from sklearn.metrics import accuracy_score, confusion_matrix, classification_report\n",
        "import numpy as np\n",
        "!pip install faker"
      ]
    },
    {
      "cell_type": "code",
      "source": [
        "import pandas as pd\n",
        "import numpy as np\n",
        "from faker import Faker\n",
        "\n",
        "\n",
        "fake = Faker()\n",
        "\n",
        "num_donors = 1000\n",
        "num_recipients = 1000\n",
        "num_matches = 1500\n",
        "\n",
        "\n",
        "blood_types = ['A+', 'A-', 'B+', 'B-', 'AB+', 'AB-', 'O+', 'O-']\n",
        "organ_types = ['Kidney', 'Liver', 'Heart', 'Lung', 'Pancreas']\n",
        "\n",
        "\n",
        "donors = []\n",
        "for i in range(num_donors):\n",
        "    donors.append({\n",
        "        'donor_id': i+1,\n",
        "        'age': fake.random_int(min=18, max=65),\n",
        "        'gender': fake.random_element(elements=('Male', 'Female', 'Other')),\n",
        "        'blood_type': fake.random_element(elements=blood_types),\n",
        "        'organ_type': fake.random_element(elements=organ_types),\n",
        "        'height': fake.random_int(min=150, max=200),\n",
        "        'weight': fake.random_int(min=50, max=120),\n",
        "        'donor_city': fake.city(),\n",
        "        'donation_date': fake.date_this_decade()\n",
        "    })\n",
        "\n",
        "donors_df = pd.DataFrame(donors)\n",
        "\n",
        "# Generate recipient data\n",
        "recipients = []\n",
        "for i in range(num_recipients):\n",
        "    recipients.append({\n",
        "        'recipient_id': i+1,\n",
        "        'age': fake.random_int(min=1, max=80),\n",
        "        'gender': fake.random_element(elements=('Male', 'Female', 'Other')),\n",
        "        'blood_type': fake.random_element(elements=blood_types),\n",
        "        'organ_needed': fake.random_element(elements=organ_types),\n",
        "        'height': fake.random_int(min=150, max=200),\n",
        "        'weight': fake.random_int(min=50, max=120),\n",
        "        'recipient_city': fake.city(),\n",
        "        'waiting_time_days': fake.random_int(min=1, max=3650)\n",
        "    })\n",
        "\n",
        "recipients_df = pd.DataFrame(recipients)\n",
        "\n",
        "# Generate match data\n",
        "matches = []\n",
        "for i in range(num_matches):\n",
        "    donor_id = fake.random_int(min=1, max=num_donors)\n",
        "    recipient_id = fake.random_int(min=1, max=num_recipients)\n",
        "    match_success = int(donors_df.loc[donor_id-1, 'organ_type'] == recipients_df.loc[recipient_id-1, 'organ_needed'] and\n",
        "                        donors_df.loc[donor_id-1, 'blood_type'] == recipients_df.loc[recipient_id-1, 'blood_type'])\n",
        "\n",
        "    matches.append({\n",
        "        'match_id': i+1,\n",
        "        'donor_id': donor_id,\n",
        "        'recipient_id': recipient_id,\n",
        "        'match_success': match_success,\n",
        "        'match_date': fake.date_this_decade()\n",
        "    })\n",
        "\n",
        "matches_df = pd.DataFrame(matches)\n",
        "\n",
        "# Save the datasets to CSV files\n",
        "donors_df.to_csv('donors.csv', index=False)\n",
        "recipients_df.to_csv('recipients.csv', index=False)\n",
        "matches_df.to_csv('matches.csv', index=False)\n",
        "\n",
        "print(\"Datasets generated successfully!\")\n"
      ],
      "metadata": {
        "colab": {
          "base_uri": "https://localhost:8080/"
        },
        "id": "9cg_6ix_8IXQ",
        "outputId": "b65bd072-7a24-477e-cb93-b1252bbb2d7f"
      },
      "execution_count": 2,
      "outputs": [
        {
          "output_type": "stream",
          "name": "stdout",
          "text": [
            "Datasets generated successfully!\n"
          ]
        }
      ]
    },
    {
      "cell_type": "code",
      "source": [
        "import pandas as pd\n",
        "from sklearn.model_selection import train_test_split\n",
        "from sklearn.ensemble import RandomForestClassifier\n",
        "from sklearn.preprocessing import LabelEncoder\n",
        "from sklearn.metrics import accuracy_score, confusion_matrix, classification_report\n",
        "\n",
        "\n",
        "donors_df = pd.read_csv('donors.csv')\n",
        "recipients_df = pd.read_csv('recipients.csv')\n",
        "matches_df = pd.read_csv('matches.csv')\n",
        "\n",
        "\n",
        "matches_df = matches_df.merge(donors_df, on='donor_id', suffixes=('_donor', '_recipient'))\n",
        "matches_df = matches_df.merge(recipients_df, on='recipient_id', suffixes=('_donor', '_recipient'))\n",
        "X = matches_df[['age_donor', 'gender_donor', 'blood_type_donor', 'organ_type', 'height_donor', 'weight_donor',\n",
        "                'age_recipient', 'gender_recipient', 'blood_type_recipient', 'organ_needed', 'height_recipient',\n",
        "                'weight_recipient', 'waiting_time_days']]\n",
        "\n",
        "y = matches_df['match_success']\n",
        "\n",
        "labelencoder = LabelEncoder()\n",
        "X['gender_donor'] = labelencoder.fit_transform(X['gender_donor'])\n",
        "X['blood_type_donor'] = labelencoder.fit_transform(X['blood_type_donor'])\n",
        "X['gender_recipient'] = labelencoder.fit_transform(X['gender_recipient'])\n",
        "X['blood_type_recipient'] = labelencoder.fit_transform(X['blood_type_recipient'])\n",
        "X['organ_type'] = labelencoder.fit_transform(X['organ_type'])\n",
        "X['organ_needed'] = labelencoder.fit_transform(X['organ_needed'])\n",
        "\n",
        "\n",
        "X = X.apply(pd.to_numeric, errors='coerce')\n",
        "X.fillna(X.mean(), inplace=True)\n",
        "\n",
        "X_train, X_test, y_train, y_test = train_test_split(X, y, test_size=0.2, random_state=42)\n"
      ],
      "metadata": {
        "colab": {
          "base_uri": "https://localhost:8080/"
        },
        "id": "iQ9dZq8S8kgU",
        "outputId": "a5706ccf-fe8b-4f0d-bb47-db689c3a70f2"
      },
      "execution_count": 3,
      "outputs": [
        {
          "output_type": "stream",
          "name": "stderr",
          "text": [
            "<ipython-input-3-9bf0a616635d>:22: SettingWithCopyWarning: \n",
            "A value is trying to be set on a copy of a slice from a DataFrame.\n",
            "Try using .loc[row_indexer,col_indexer] = value instead\n",
            "\n",
            "See the caveats in the documentation: https://pandas.pydata.org/pandas-docs/stable/user_guide/indexing.html#returning-a-view-versus-a-copy\n",
            "  X['gender_donor'] = labelencoder.fit_transform(X['gender_donor'])\n",
            "<ipython-input-3-9bf0a616635d>:23: SettingWithCopyWarning: \n",
            "A value is trying to be set on a copy of a slice from a DataFrame.\n",
            "Try using .loc[row_indexer,col_indexer] = value instead\n",
            "\n",
            "See the caveats in the documentation: https://pandas.pydata.org/pandas-docs/stable/user_guide/indexing.html#returning-a-view-versus-a-copy\n",
            "  X['blood_type_donor'] = labelencoder.fit_transform(X['blood_type_donor'])\n",
            "<ipython-input-3-9bf0a616635d>:24: SettingWithCopyWarning: \n",
            "A value is trying to be set on a copy of a slice from a DataFrame.\n",
            "Try using .loc[row_indexer,col_indexer] = value instead\n",
            "\n",
            "See the caveats in the documentation: https://pandas.pydata.org/pandas-docs/stable/user_guide/indexing.html#returning-a-view-versus-a-copy\n",
            "  X['gender_recipient'] = labelencoder.fit_transform(X['gender_recipient'])\n",
            "<ipython-input-3-9bf0a616635d>:25: SettingWithCopyWarning: \n",
            "A value is trying to be set on a copy of a slice from a DataFrame.\n",
            "Try using .loc[row_indexer,col_indexer] = value instead\n",
            "\n",
            "See the caveats in the documentation: https://pandas.pydata.org/pandas-docs/stable/user_guide/indexing.html#returning-a-view-versus-a-copy\n",
            "  X['blood_type_recipient'] = labelencoder.fit_transform(X['blood_type_recipient'])\n",
            "<ipython-input-3-9bf0a616635d>:26: SettingWithCopyWarning: \n",
            "A value is trying to be set on a copy of a slice from a DataFrame.\n",
            "Try using .loc[row_indexer,col_indexer] = value instead\n",
            "\n",
            "See the caveats in the documentation: https://pandas.pydata.org/pandas-docs/stable/user_guide/indexing.html#returning-a-view-versus-a-copy\n",
            "  X['organ_type'] = labelencoder.fit_transform(X['organ_type'])\n",
            "<ipython-input-3-9bf0a616635d>:27: SettingWithCopyWarning: \n",
            "A value is trying to be set on a copy of a slice from a DataFrame.\n",
            "Try using .loc[row_indexer,col_indexer] = value instead\n",
            "\n",
            "See the caveats in the documentation: https://pandas.pydata.org/pandas-docs/stable/user_guide/indexing.html#returning-a-view-versus-a-copy\n",
            "  X['organ_needed'] = labelencoder.fit_transform(X['organ_needed'])\n"
          ]
        }
      ]
    },
    {
      "cell_type": "code",
      "source": [
        "\n",
        "model = RandomForestClassifier(n_estimators=100, random_state=42)\n",
        "\n",
        "\n",
        "model.fit(X_train, y_train)\n"
      ],
      "metadata": {
        "colab": {
          "base_uri": "https://localhost:8080/",
          "height": 75
        },
        "id": "e78A-N-U8yJV",
        "outputId": "4d71728f-dad9-434f-8452-7a616f2a8c44"
      },
      "execution_count": 4,
      "outputs": [
        {
          "output_type": "execute_result",
          "data": {
            "text/plain": [
              "RandomForestClassifier(random_state=42)"
            ],
            "text/html": [
              "<style>#sk-container-id-1 {color: black;background-color: white;}#sk-container-id-1 pre{padding: 0;}#sk-container-id-1 div.sk-toggleable {background-color: white;}#sk-container-id-1 label.sk-toggleable__label {cursor: pointer;display: block;width: 100%;margin-bottom: 0;padding: 0.3em;box-sizing: border-box;text-align: center;}#sk-container-id-1 label.sk-toggleable__label-arrow:before {content: \"▸\";float: left;margin-right: 0.25em;color: #696969;}#sk-container-id-1 label.sk-toggleable__label-arrow:hover:before {color: black;}#sk-container-id-1 div.sk-estimator:hover label.sk-toggleable__label-arrow:before {color: black;}#sk-container-id-1 div.sk-toggleable__content {max-height: 0;max-width: 0;overflow: hidden;text-align: left;background-color: #f0f8ff;}#sk-container-id-1 div.sk-toggleable__content pre {margin: 0.2em;color: black;border-radius: 0.25em;background-color: #f0f8ff;}#sk-container-id-1 input.sk-toggleable__control:checked~div.sk-toggleable__content {max-height: 200px;max-width: 100%;overflow: auto;}#sk-container-id-1 input.sk-toggleable__control:checked~label.sk-toggleable__label-arrow:before {content: \"▾\";}#sk-container-id-1 div.sk-estimator input.sk-toggleable__control:checked~label.sk-toggleable__label {background-color: #d4ebff;}#sk-container-id-1 div.sk-label input.sk-toggleable__control:checked~label.sk-toggleable__label {background-color: #d4ebff;}#sk-container-id-1 input.sk-hidden--visually {border: 0;clip: rect(1px 1px 1px 1px);clip: rect(1px, 1px, 1px, 1px);height: 1px;margin: -1px;overflow: hidden;padding: 0;position: absolute;width: 1px;}#sk-container-id-1 div.sk-estimator {font-family: monospace;background-color: #f0f8ff;border: 1px dotted black;border-radius: 0.25em;box-sizing: border-box;margin-bottom: 0.5em;}#sk-container-id-1 div.sk-estimator:hover {background-color: #d4ebff;}#sk-container-id-1 div.sk-parallel-item::after {content: \"\";width: 100%;border-bottom: 1px solid gray;flex-grow: 1;}#sk-container-id-1 div.sk-label:hover label.sk-toggleable__label {background-color: #d4ebff;}#sk-container-id-1 div.sk-serial::before {content: \"\";position: absolute;border-left: 1px solid gray;box-sizing: border-box;top: 0;bottom: 0;left: 50%;z-index: 0;}#sk-container-id-1 div.sk-serial {display: flex;flex-direction: column;align-items: center;background-color: white;padding-right: 0.2em;padding-left: 0.2em;position: relative;}#sk-container-id-1 div.sk-item {position: relative;z-index: 1;}#sk-container-id-1 div.sk-parallel {display: flex;align-items: stretch;justify-content: center;background-color: white;position: relative;}#sk-container-id-1 div.sk-item::before, #sk-container-id-1 div.sk-parallel-item::before {content: \"\";position: absolute;border-left: 1px solid gray;box-sizing: border-box;top: 0;bottom: 0;left: 50%;z-index: -1;}#sk-container-id-1 div.sk-parallel-item {display: flex;flex-direction: column;z-index: 1;position: relative;background-color: white;}#sk-container-id-1 div.sk-parallel-item:first-child::after {align-self: flex-end;width: 50%;}#sk-container-id-1 div.sk-parallel-item:last-child::after {align-self: flex-start;width: 50%;}#sk-container-id-1 div.sk-parallel-item:only-child::after {width: 0;}#sk-container-id-1 div.sk-dashed-wrapped {border: 1px dashed gray;margin: 0 0.4em 0.5em 0.4em;box-sizing: border-box;padding-bottom: 0.4em;background-color: white;}#sk-container-id-1 div.sk-label label {font-family: monospace;font-weight: bold;display: inline-block;line-height: 1.2em;}#sk-container-id-1 div.sk-label-container {text-align: center;}#sk-container-id-1 div.sk-container {/* jupyter's `normalize.less` sets `[hidden] { display: none; }` but bootstrap.min.css set `[hidden] { display: none !important; }` so we also need the `!important` here to be able to override the default hidden behavior on the sphinx rendered scikit-learn.org. See: https://github.com/scikit-learn/scikit-learn/issues/21755 */display: inline-block !important;position: relative;}#sk-container-id-1 div.sk-text-repr-fallback {display: none;}</style><div id=\"sk-container-id-1\" class=\"sk-top-container\"><div class=\"sk-text-repr-fallback\"><pre>RandomForestClassifier(random_state=42)</pre><b>In a Jupyter environment, please rerun this cell to show the HTML representation or trust the notebook. <br />On GitHub, the HTML representation is unable to render, please try loading this page with nbviewer.org.</b></div><div class=\"sk-container\" hidden><div class=\"sk-item\"><div class=\"sk-estimator sk-toggleable\"><input class=\"sk-toggleable__control sk-hidden--visually\" id=\"sk-estimator-id-1\" type=\"checkbox\" checked><label for=\"sk-estimator-id-1\" class=\"sk-toggleable__label sk-toggleable__label-arrow\">RandomForestClassifier</label><div class=\"sk-toggleable__content\"><pre>RandomForestClassifier(random_state=42)</pre></div></div></div></div></div>"
            ]
          },
          "metadata": {},
          "execution_count": 4
        }
      ]
    },
    {
      "cell_type": "code",
      "source": [
        "\n",
        "y_pred = model.predict(X_test)\n",
        "\n",
        "\n",
        "accuracy = accuracy_score(y_test, y_pred)\n",
        "print(f'Accuracy: {accuracy}')\n",
        "\n",
        "conf_matrix = confusion_matrix(y_test, y_pred)\n",
        "print(f'Confusion Matrix:\\n{conf_matrix}')\n",
        "\n",
        "class_report = classification_report(y_test, y_pred)\n",
        "print(f'Classification Report:\\n{class_report}')\n"
      ],
      "metadata": {
        "colab": {
          "base_uri": "https://localhost:8080/"
        },
        "id": "FXj_gI9684JB",
        "outputId": "bfe8ed0b-7057-45af-83f1-d319a8768008"
      },
      "execution_count": 5,
      "outputs": [
        {
          "output_type": "stream",
          "name": "stdout",
          "text": [
            "Accuracy: 0.98\n",
            "Confusion Matrix:\n",
            "[[294   0]\n",
            " [  6   0]]\n",
            "Classification Report:\n",
            "              precision    recall  f1-score   support\n",
            "\n",
            "           0       0.98      1.00      0.99       294\n",
            "           1       0.00      0.00      0.00         6\n",
            "\n",
            "    accuracy                           0.98       300\n",
            "   macro avg       0.49      0.50      0.49       300\n",
            "weighted avg       0.96      0.98      0.97       300\n",
            "\n"
          ]
        },
        {
          "output_type": "stream",
          "name": "stderr",
          "text": [
            "/usr/local/lib/python3.10/dist-packages/sklearn/metrics/_classification.py:1344: UndefinedMetricWarning: Precision and F-score are ill-defined and being set to 0.0 in labels with no predicted samples. Use `zero_division` parameter to control this behavior.\n",
            "  _warn_prf(average, modifier, msg_start, len(result))\n",
            "/usr/local/lib/python3.10/dist-packages/sklearn/metrics/_classification.py:1344: UndefinedMetricWarning: Precision and F-score are ill-defined and being set to 0.0 in labels with no predicted samples. Use `zero_division` parameter to control this behavior.\n",
            "  _warn_prf(average, modifier, msg_start, len(result))\n",
            "/usr/local/lib/python3.10/dist-packages/sklearn/metrics/_classification.py:1344: UndefinedMetricWarning: Precision and F-score are ill-defined and being set to 0.0 in labels with no predicted samples. Use `zero_division` parameter to control this behavior.\n",
            "  _warn_prf(average, modifier, msg_start, len(result))\n"
          ]
        }
      ]
    },
    {
      "cell_type": "code",
      "source": [
        "\n",
        "new_data = pd.DataFrame({\n",
        "    'age_donor': [30, 50],\n",
        "    'gender_donor': [1, 0],\n",
        "    'blood_type_donor': [2, 3],\n",
        "    'organ_type': [1, 0],\n",
        "    'height_donor': [175, 160],\n",
        "    'weight_donor': [70, 60],\n",
        "    'age_recipient': [40, 55],\n",
        "    'gender_recipient': [1, 0],\n",
        "    'blood_type_recipient': [2, 3],\n",
        "    'organ_needed': [1, 0],\n",
        "    'height_recipient': [170, 165],\n",
        "    'weight_recipient': [65, 70],\n",
        "    'waiting_time_days': [100, 200]\n",
        "})\n",
        "\n",
        "\n",
        "predictions = model.predict(new_data)\n",
        "print(f'Predictions: {predictions}')\n"
      ],
      "metadata": {
        "colab": {
          "base_uri": "https://localhost:8080/"
        },
        "id": "sq77R7LX88iK",
        "outputId": "e26aba88-b96b-4008-b887-358cf98aeb60"
      },
      "execution_count": 6,
      "outputs": [
        {
          "output_type": "stream",
          "name": "stdout",
          "text": [
            "Predictions: [0 0]\n"
          ]
        }
      ]
    }
  ]
}